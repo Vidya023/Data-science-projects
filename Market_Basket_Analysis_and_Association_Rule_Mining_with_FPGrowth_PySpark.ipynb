{
 "cells": [
  {
   "cell_type": "markdown",
   "metadata": {},
   "source": [
    "# Market Basket Analysis and Association Rule Mining with FPGrowth in PySpark"
   ]
  },
  {
   "cell_type": "code",
   "execution_count": 1,
   "metadata": {},
   "outputs": [],
   "source": [
    "import pandas as pd \n",
    "import numpy as np \n",
    "import matplotlib.pyplot as plt \n",
    "%matplotlib inline \n",
    "from os import sep \n",
    "import pyspark \n",
    "from time import time \n",
    "import seaborn as sns \n",
    "\n",
    "from pyspark.sql.functions import *\n",
    "from pyspark.sql.types import *\n",
    "from pyspark.sql import functions as F, SparkSession, Column,types\n",
    "from pyspark.sql.functions import col,isnan,when,count, split, to_timestamp\n",
    "from pyspark.sql import SparkSession, SQLContext\n",
    "from pyspark.ml.fpm import FPGrowth,FPGrowthModel\n",
    "from pyspark.ml.feature import OneHotEncoder, StringIndexer, CountVectorizer\n",
    "from pyspark.sql.types import IntegerType\n",
    "from pyspark.sql.functions import lit\n",
    "\n",
    "plt.style.use('seaborn-v0_8-darkgrid')\n",
    "import warnings\n",
    "warnings.filterwarnings('ignore') "
   ]
  },
  {
   "cell_type": "markdown",
   "metadata": {},
   "source": [
    "## Create spark session"
   ]
  },
  {
   "cell_type": "code",
   "execution_count": 2,
   "metadata": {},
   "outputs": [
    {
     "name": "stdout",
     "output_type": "stream",
     "text": [
      "Java is installed and accessible:\n",
      "java version \"1.8.0_421\"\n",
      "Java(TM) SE Runtime Environment (build 1.8.0_421-b09)\n",
      "Java HotSpot(TM) 64-Bit Server VM (build 25.421-b09, mixed mode)\n",
      "\n"
     ]
    }
   ],
   "source": [
    "import subprocess\n",
    "\n",
    "def check_java_installation():\n",
    "    try:\n",
    "        # Run 'java -version' command\n",
    "        result = subprocess.run(['java', '-version'], capture_output=True, text=True, check=True)\n",
    "        # Output the result\n",
    "        print(\"Java is installed and accessible:\")\n",
    "        print(result.stderr)  # Java version information is output to stderr\n",
    "    except subprocess.CalledProcessError as e:\n",
    "        print(\"Java is not accessible.\")\n",
    "        print(e)\n",
    "    except FileNotFoundError:\n",
    "        print(\"Java is not installed or not found in the system PATH.\")\n",
    "\n",
    "if __name__ == \"__main__\":\n",
    "    check_java_installation() "
   ]
  },
  {
   "cell_type": "code",
   "execution_count": 3,
   "metadata": {},
   "outputs": [
    {
     "data": {
      "text/html": [
       "\n",
       "            <div>\n",
       "                <p><b>SparkSession - in-memory</b></p>\n",
       "                \n",
       "        <div>\n",
       "            <p><b>SparkContext</b></p>\n",
       "\n",
       "            <p><a href=\"http://Vidya:4040\">Spark UI</a></p>\n",
       "\n",
       "            <dl>\n",
       "              <dt>Version</dt>\n",
       "                <dd><code>v3.5.2</code></dd>\n",
       "              <dt>Master</dt>\n",
       "                <dd><code>local[*]</code></dd>\n",
       "              <dt>AppName</dt>\n",
       "                <dd><code>SalesMarketBasketAnalysis</code></dd>\n",
       "            </dl>\n",
       "        </div>\n",
       "        \n",
       "            </div>\n",
       "        "
      ],
      "text/plain": [
       "<pyspark.sql.session.SparkSession at 0x2582e6869f0>"
      ]
     },
     "execution_count": 3,
     "metadata": {},
     "output_type": "execute_result"
    }
   ],
   "source": [
    "spark = SparkSession.builder.appName('SalesMarketBasketAnalysis').getOrCreate()\n",
    "sqlCtx = SQLContext(spark)\n",
    "spark  "
   ]
  },
  {
   "cell_type": "code",
   "execution_count": 4,
   "metadata": {},
   "outputs": [
    {
     "name": "stdout",
     "output_type": "stream",
     "text": [
      "+------+--------------------+--------+----------------+-----+----------+--------------+\n",
      "|BillNo|            Itemname|Quantity|            Date|Price|CustomerID|       Country|\n",
      "+------+--------------------+--------+----------------+-----+----------+--------------+\n",
      "|536365|WHITE HANGING HEA...|       6|01.12.2010 08:26| 2,55|     17850|United Kingdom|\n",
      "|536365| WHITE METAL LANTERN|       6|01.12.2010 08:26| 3,39|     17850|United Kingdom|\n",
      "|536365|CREAM CUPID HEART...|       8|01.12.2010 08:26| 2,75|     17850|United Kingdom|\n",
      "|536365|KNITTED UNION FLA...|       6|01.12.2010 08:26| 3,39|     17850|United Kingdom|\n",
      "|536365|RED WOOLLY HOTTIE...|       6|01.12.2010 08:26| 3,39|     17850|United Kingdom|\n",
      "+------+--------------------+--------+----------------+-----+----------+--------------+\n",
      "only showing top 5 rows\n",
      "\n"
     ]
    }
   ],
   "source": [
    "data = spark.read.csv('Sales_Data.csv',header=True,sep=\";\",inferSchema=True)\n",
    "data.show(5) "
   ]
  },
  {
   "cell_type": "code",
   "execution_count": 5,
   "metadata": {},
   "outputs": [
    {
     "name": "stdout",
     "output_type": "stream",
     "text": [
      "+-------+------------------+--------------------+------------------+----------------+------------------+------------------+-----------+\n",
      "|summary|            BillNo|            Itemname|          Quantity|            Date|             Price|        CustomerID|    Country|\n",
      "+-------+------------------+--------------------+------------------+----------------+------------------+------------------+-----------+\n",
      "|  count|            522064|              520609|            522064|          522064|            522064|            388023|     522064|\n",
      "|   mean| 559950.7852856276|                NULL|10.090435272303779|            NULL|15.576812289966394|15316.931710233672|       NULL|\n",
      "| stddev|13452.750899836992|                NULL|161.11052518229036|            NULL|  72.6216939005565|1721.8469642664234|       NULL|\n",
      "|    min|            536365|\"ASSORTED FLOWER ...|             -9600|01.02.2011 08:23|         -11062,06|             12346|  Australia|\n",
      "|    25%|          547892.0|                NULL|                 1|            NULL|               0.0|             13950|       NULL|\n",
      "|    50%|          560601.0|                NULL|                 3|            NULL|               0.0|             15265|       NULL|\n",
      "|    75%|          571895.0|                NULL|                10|            NULL|              18.0|             16837|       NULL|\n",
      "|    max|           A563187|   wrongly sold sets|             80995|31.10.2011 17:19|             99,96|             18287|Unspecified|\n",
      "+-------+------------------+--------------------+------------------+----------------+------------------+------------------+-----------+\n",
      "\n"
     ]
    }
   ],
   "source": [
    "data.summary().show() "
   ]
  },
  {
   "cell_type": "markdown",
   "metadata": {},
   "source": [
    "## Data Preprocessing and Feature Engineering"
   ]
  },
  {
   "cell_type": "code",
   "execution_count": 6,
   "metadata": {},
   "outputs": [
    {
     "data": {
      "text/plain": [
       "pyspark.sql.dataframe.DataFrame"
      ]
     },
     "execution_count": 6,
     "metadata": {},
     "output_type": "execute_result"
    }
   ],
   "source": [
    "type(data) "
   ]
  },
  {
   "cell_type": "code",
   "execution_count": 7,
   "metadata": {},
   "outputs": [
    {
     "name": "stdout",
     "output_type": "stream",
     "text": [
      "Number of records:  522064\n"
     ]
    }
   ],
   "source": [
    "print('Number of records: ',data.count()) "
   ]
  },
  {
   "cell_type": "code",
   "execution_count": 8,
   "metadata": {},
   "outputs": [
    {
     "name": "stdout",
     "output_type": "stream",
     "text": [
      "root\n",
      " |-- BillNo: string (nullable = true)\n",
      " |-- Itemname: string (nullable = true)\n",
      " |-- Quantity: integer (nullable = true)\n",
      " |-- Date: string (nullable = true)\n",
      " |-- Price: string (nullable = true)\n",
      " |-- CustomerID: integer (nullable = true)\n",
      " |-- Country: string (nullable = true)\n",
      "\n"
     ]
    }
   ],
   "source": [
    "data.printSchema() "
   ]
  },
  {
   "cell_type": "code",
   "execution_count": 9,
   "metadata": {},
   "outputs": [
    {
     "data": {
      "text/plain": [
       "['BillNo', 'Itemname', 'Quantity', 'Date', 'Price', 'CustomerID', 'Country']"
      ]
     },
     "execution_count": 9,
     "metadata": {},
     "output_type": "execute_result"
    }
   ],
   "source": [
    "data.columns "
   ]
  },
  {
   "cell_type": "code",
   "execution_count": 10,
   "metadata": {},
   "outputs": [
    {
     "data": {
      "text/plain": [
       "4298"
      ]
     },
     "execution_count": 10,
     "metadata": {},
     "output_type": "execute_result"
    }
   ],
   "source": [
    "data.select('CustomerID').distinct().count() "
   ]
  },
  {
   "cell_type": "code",
   "execution_count": 11,
   "metadata": {},
   "outputs": [
    {
     "data": {
      "text/plain": [
       "[('BillNo', 'string'),\n",
       " ('Itemname', 'string'),\n",
       " ('Quantity', 'int'),\n",
       " ('Date', 'string'),\n",
       " ('Price', 'string'),\n",
       " ('CustomerID', 'int'),\n",
       " ('Country', 'string')]"
      ]
     },
     "execution_count": 11,
     "metadata": {},
     "output_type": "execute_result"
    }
   ],
   "source": [
    "data.dtypes"
   ]
  },
  {
   "cell_type": "markdown",
   "metadata": {},
   "source": [
    "#### Change Column type"
   ]
  },
  {
   "cell_type": "code",
   "execution_count": 12,
   "metadata": {},
   "outputs": [],
   "source": [
    "data = data.withColumn('Price', F.regexp_replace('Price',\",\",\".\")) \n",
    "data = data.withColumn('Price', F.col('Price').cast('float')) "
   ]
  },
  {
   "cell_type": "code",
   "execution_count": 13,
   "metadata": {},
   "outputs": [],
   "source": [
    "data = data.withColumn('Quantity', F.col('Quantity').cast('int'))"
   ]
  },
  {
   "cell_type": "code",
   "execution_count": 14,
   "metadata": {},
   "outputs": [
    {
     "name": "stdout",
     "output_type": "stream",
     "text": [
      "root\n",
      " |-- BillNo: string (nullable = true)\n",
      " |-- Itemname: string (nullable = true)\n",
      " |-- Quantity: integer (nullable = true)\n",
      " |-- Date: string (nullable = true)\n",
      " |-- Price: float (nullable = true)\n",
      " |-- CustomerID: integer (nullable = true)\n",
      " |-- Country: string (nullable = true)\n",
      "\n"
     ]
    }
   ],
   "source": [
    "data.printSchema() "
   ]
  },
  {
   "cell_type": "markdown",
   "metadata": {},
   "source": [
    "#### Checking for null values"
   ]
  },
  {
   "cell_type": "code",
   "execution_count": 15,
   "metadata": {},
   "outputs": [
    {
     "name": "stdout",
     "output_type": "stream",
     "text": [
      "+------+--------+--------+----+-----+----------+-------+\n",
      "|BillNo|Itemname|Quantity|Date|Price|CustomerID|Country|\n",
      "+------+--------+--------+----+-----+----------+-------+\n",
      "|     0|    1455|       0|   0|    0|    134041|      0|\n",
      "+------+--------+--------+----+-----+----------+-------+\n",
      "\n"
     ]
    }
   ],
   "source": [
    "data.select([count(when(isnan(c) | col(c).isNull(), c)).alias(c) for c in data.columns]).show()"
   ]
  },
  {
   "cell_type": "code",
   "execution_count": 16,
   "metadata": {},
   "outputs": [],
   "source": [
    "data = data.filter((F.col('Price')>0) & (F.col('Quantity')>0)) "
   ]
  },
  {
   "cell_type": "markdown",
   "metadata": {},
   "source": [
    "#### Creating new column for Total Price"
   ]
  },
  {
   "cell_type": "code",
   "execution_count": 17,
   "metadata": {},
   "outputs": [
    {
     "name": "stdout",
     "output_type": "stream",
     "text": [
      "+------+--------------------+--------+----------------+-----+----------+--------------+----------+\n",
      "|BillNo|            Itemname|Quantity|            Date|Price|CustomerID|       Country|TotalPrice|\n",
      "+------+--------------------+--------+----------------+-----+----------+--------------+----------+\n",
      "|536365|WHITE HANGING HEA...|       6|01.12.2010 08:26| 2.55|     17850|United Kingdom|      15.3|\n",
      "|536365| WHITE METAL LANTERN|       6|01.12.2010 08:26| 3.39|     17850|United Kingdom|     20.34|\n",
      "|536365|CREAM CUPID HEART...|       8|01.12.2010 08:26| 2.75|     17850|United Kingdom|      22.0|\n",
      "|536365|KNITTED UNION FLA...|       6|01.12.2010 08:26| 3.39|     17850|United Kingdom|     20.34|\n",
      "|536365|RED WOOLLY HOTTIE...|       6|01.12.2010 08:26| 3.39|     17850|United Kingdom|     20.34|\n",
      "+------+--------------------+--------+----------------+-----+----------+--------------+----------+\n",
      "only showing top 5 rows\n",
      "\n"
     ]
    }
   ],
   "source": [
    "data = data.withColumn('TotalPrice', F.round(F.col('Price')*F.col('Quantity'),2))\n",
    "data.show(5) "
   ]
  },
  {
   "cell_type": "markdown",
   "metadata": {},
   "source": [
    "#### Input 99999 inplace of NaN"
   ]
  },
  {
   "cell_type": "code",
   "execution_count": 18,
   "metadata": {},
   "outputs": [
    {
     "name": "stdout",
     "output_type": "stream",
     "text": [
      "+------+--------+--------+----+-----+----------+-------+----------+\n",
      "|BillNo|Itemname|Quantity|Date|Price|CustomerID|Country|TotalPrice|\n",
      "+------+--------+--------+----+-----+----------+-------+----------+\n",
      "|     0|       0|       0|   0|    0|         0|      0|         0|\n",
      "+------+--------+--------+----+-----+----------+-------+----------+\n",
      "\n"
     ]
    }
   ],
   "source": [
    "data = data.na.fill(value=99999, subset=['CustomerID']) \n",
    "data.select([count(when(isnan(c) | col(c).isNull(), c)).alias(c) for c in data.columns]).show()"
   ]
  },
  {
   "cell_type": "code",
   "execution_count": 19,
   "metadata": {},
   "outputs": [],
   "source": [
    "data = data.filter((F.col(\"Itemname\")!='POSTAGE') & (F.col(\"Itemname\")!='DOTCOM POSTAGE') & (F.col(\"Itemname\")!='Adjust bad debt') & (F.col(\"Itemname\")!='Manual'))"
   ]
  },
  {
   "cell_type": "code",
   "execution_count": 20,
   "metadata": {},
   "outputs": [
    {
     "name": "stdout",
     "output_type": "stream",
     "text": [
      "+------+--------+--------+----+-----+----------+-------+----------+\n",
      "|BillNo|Itemname|Quantity|Date|Price|CustomerID|Country|TotalPrice|\n",
      "+------+--------+--------+----+-----+----------+-------+----------+\n",
      "|     0|       0|       0|   0|    0|         0|      0|         0|\n",
      "+------+--------+--------+----+-----+----------+-------+----------+\n",
      "\n"
     ]
    }
   ],
   "source": [
    "data.select([count(when(isnan(c) | col(c).isNull(), c)).alias(c) for c in data.columns]).show() "
   ]
  },
  {
   "cell_type": "code",
   "execution_count": 21,
   "metadata": {},
   "outputs": [
    {
     "data": {
      "text/plain": [
       "4002"
      ]
     },
     "execution_count": 21,
     "metadata": {},
     "output_type": "execute_result"
    }
   ],
   "source": [
    "data[['Itemname']].distinct().count() "
   ]
  },
  {
   "cell_type": "code",
   "execution_count": 22,
   "metadata": {},
   "outputs": [
    {
     "data": {
      "text/plain": [
       "30"
      ]
     },
     "execution_count": 22,
     "metadata": {},
     "output_type": "execute_result"
    }
   ],
   "source": [
    "data[['Country']].distinct().count() "
   ]
  },
  {
   "cell_type": "code",
   "execution_count": 23,
   "metadata": {},
   "outputs": [
    {
     "name": "stdout",
     "output_type": "stream",
     "text": [
      "+--------------+\n",
      "|       Country|\n",
      "+--------------+\n",
      "|        Sweden|\n",
      "|       Germany|\n",
      "|        France|\n",
      "|       Belgium|\n",
      "|         Italy|\n",
      "|     Lithuania|\n",
      "|        Norway|\n",
      "|         Spain|\n",
      "|       Iceland|\n",
      "|        Israel|\n",
      "|   Switzerland|\n",
      "|         Japan|\n",
      "|        Poland|\n",
      "|      Portugal|\n",
      "|     Australia|\n",
      "|       Austria|\n",
      "|       Bahrain|\n",
      "|United Kingdom|\n",
      "|   Netherlands|\n",
      "|     Singapore|\n",
      "+--------------+\n",
      "only showing top 20 rows\n",
      "\n"
     ]
    }
   ],
   "source": [
    "data[['Country']].distinct().show() "
   ]
  },
  {
   "cell_type": "markdown",
   "metadata": {},
   "source": [
    "### Changing Column Type (Date) "
   ]
  },
  {
   "cell_type": "code",
   "execution_count": 24,
   "metadata": {},
   "outputs": [],
   "source": [
    "data = data.withColumn('Time', F.split('Date',\" \",0)[1])"
   ]
  },
  {
   "cell_type": "code",
   "execution_count": 25,
   "metadata": {},
   "outputs": [],
   "source": [
    "data = data.withColumn(\"Date\",F.split(\"Date\",\" \",0)[0])\n",
    "data = data.withColumn(\"Date\", to_date(data[\"Date\"], \"dd.MM.yyyy\"))"
   ]
  },
  {
   "cell_type": "markdown",
   "metadata": {},
   "source": [
    "#### Rearranging Columns"
   ]
  },
  {
   "cell_type": "code",
   "execution_count": 26,
   "metadata": {},
   "outputs": [
    {
     "name": "stdout",
     "output_type": "stream",
     "text": [
      "+------+--------------------+--------+-----+----------+--------------+----------+-----+----------+\n",
      "|BillNo|            Itemname|Quantity|Price|CustomerID|       Country|      Date| Time|TotalPrice|\n",
      "+------+--------------------+--------+-----+----------+--------------+----------+-----+----------+\n",
      "|536365|WHITE HANGING HEA...|       6| 2.55|     17850|United Kingdom|2010-12-01|08:26|      15.3|\n",
      "|536365| WHITE METAL LANTERN|       6| 3.39|     17850|United Kingdom|2010-12-01|08:26|     20.34|\n",
      "|536365|CREAM CUPID HEART...|       8| 2.75|     17850|United Kingdom|2010-12-01|08:26|      22.0|\n",
      "|536365|KNITTED UNION FLA...|       6| 3.39|     17850|United Kingdom|2010-12-01|08:26|     20.34|\n",
      "|536365|RED WOOLLY HOTTIE...|       6| 3.39|     17850|United Kingdom|2010-12-01|08:26|     20.34|\n",
      "+------+--------------------+--------+-----+----------+--------------+----------+-----+----------+\n",
      "only showing top 5 rows\n",
      "\n"
     ]
    }
   ],
   "source": [
    "data = data.select('BillNo', 'Itemname', 'Quantity', 'Price', 'CustomerID', 'Country','Date', 'Time','TotalPrice')\n",
    "data.show(5)"
   ]
  },
  {
   "cell_type": "markdown",
   "metadata": {},
   "source": [
    "### Detecting outliers using IQR method"
   ]
  },
  {
   "cell_type": "code",
   "execution_count": 27,
   "metadata": {},
   "outputs": [],
   "source": [
    "quantiles = data.approxQuantile('TotalPrice', [0.25, 0.75], 0.05)\n",
    "q1 = quantiles[0]\n",
    "q3 = quantiles[1]\n",
    "\n",
    "iqr = q3-q1 \n",
    "\n",
    "lower_bound = q1 - 1.5 * iqr\n",
    "upper_bound = q3 + 1.5 * iqr  "
   ]
  },
  {
   "cell_type": "code",
   "execution_count": 28,
   "metadata": {},
   "outputs": [
    {
     "name": "stdout",
     "output_type": "stream",
     "text": [
      "+------+--------------------+--------+-----+----------+--------------+----------+-----+----------+\n",
      "|BillNo|            Itemname|Quantity|Price|CustomerID|       Country|      Date| Time|TotalPrice|\n",
      "+------+--------------------+--------+-----+----------+--------------+----------+-----+----------+\n",
      "|536367|ASSORTED COLOUR B...|      32| 1.69|     13047|United Kingdom|2010-12-01|08:34|     54.08|\n",
      "|536370|ALARM CLOCK BAKEL...|      24| 3.75|     12583|        France|2010-12-01|08:45|      90.0|\n",
      "|536370|ALARM CLOCK BAKEL...|      24| 3.75|     12583|        France|2010-12-01|08:45|      90.0|\n",
      "|536370|ALARM CLOCK BAKEL...|      12| 3.75|     12583|        France|2010-12-01|08:45|      45.0|\n",
      "|536370|INFLATABLE POLITI...|      48| 0.85|     12583|        France|2010-12-01|08:45|      40.8|\n",
      "|536370|SET/2 RED RETROSP...|      18| 2.95|     12583|        France|2010-12-01|08:45|      53.1|\n",
      "|536370|ROUND SNACK BOXES...|      24| 2.95|     12583|        France|2010-12-01|08:45|      70.8|\n",
      "|536370|  SPACEBOY LUNCH BOX|      24| 1.95|     12583|        France|2010-12-01|08:45|      46.8|\n",
      "|536370|LUNCH BOX I LOVE ...|      24| 1.95|     12583|        France|2010-12-01|08:45|      46.8|\n",
      "|536370|CIRCUS PARADE LUN...|      24| 1.95|     12583|        France|2010-12-01|08:45|      46.8|\n",
      "|536370|RED TOADSTOOL LED...|      24| 1.65|     12583|        France|2010-12-01|08:45|      39.6|\n",
      "|536370|SET 2 TEA TOWELS ...|      24| 2.95|     12583|        France|2010-12-01|08:45|      70.8|\n",
      "|536370|VINTAGE SEASIDE J...|      12| 3.75|     12583|        France|2010-12-01|08:45|      45.0|\n",
      "|536371|PAPER CHAIN KIT 5...|      80| 2.55|     13748|United Kingdom|2010-12-01|09:00|     204.0|\n",
      "|536374|VICTORIAN SEWING ...|      32|10.95|     15100|United Kingdom|2010-12-01|09:09|     350.4|\n",
      "|536376|HOT WATER BOTTLE ...|      48| 3.45|     15291|United Kingdom|2010-12-01|09:32|     165.6|\n",
      "|536376|RED HANGING HEART...|      64| 2.55|     15291|United Kingdom|2010-12-01|09:32|     163.2|\n",
      "|536378|RED 3 PIECE RETRO...|      12| 3.75|     14688|United Kingdom|2010-12-01|09:37|      45.0|\n",
      "|536378|PACK OF 72 RETROS...|     120| 0.42|     14688|United Kingdom|2010-12-01|09:37|      50.4|\n",
      "|536378|CHARLIE & LOLA WA...|      48| 1.25|     14688|United Kingdom|2010-12-01|09:37|      60.0|\n",
      "+------+--------------------+--------+-----+----------+--------------+----------+-----+----------+\n",
      "only showing top 20 rows\n",
      "\n"
     ]
    }
   ],
   "source": [
    "outliers = data.filter((data.TotalPrice < lower_bound) | (data.TotalPrice > upper_bound))\n",
    "outliers.show() "
   ]
  },
  {
   "cell_type": "code",
   "execution_count": 29,
   "metadata": {},
   "outputs": [
    {
     "name": "stdout",
     "output_type": "stream",
     "text": [
      "Total outliers  40891\n"
     ]
    }
   ],
   "source": [
    "print(\"Total outliers \", outliers.count()) "
   ]
  },
  {
   "cell_type": "code",
   "execution_count": 30,
   "metadata": {},
   "outputs": [
    {
     "data": {
      "image/png": "[encoded data removed]",
      "text/plain": [
       "<Figure size 640x480 with 1 Axes>"
      ]
     },
     "metadata": {},
     "output_type": "display_data"
    }
   ],
   "source": [
    "# Convert the outliers_iqr DataFrame to a Pandas DataFrame\n",
    "outliers_iqr_pd = outliers.select('TotalPrice').toPandas()\n",
    "\n",
    "# Create a box plot of the outlier values\n",
    "sns.boxplot(x=outliers_iqr_pd['TotalPrice'], orient='h')\n",
    "\n",
    "# Set the plot title and axis labels\n",
    "plt.title('Total Price Outliers (IQR Method)')\n",
    "plt.xlabel('Total Price')\n",
    "\n",
    "# Show the plot\n",
    "plt.show() "
   ]
  },
  {
   "cell_type": "code",
   "execution_count": 31,
   "metadata": {},
   "outputs": [
    {
     "name": "stdout",
     "output_type": "stream",
     "text": [
      "The Lower bound of total_price is -16.50000011920929\n",
      "THe upper_bound of total_price is 36.300000071525574\n"
     ]
    }
   ],
   "source": [
    "print(\"The Lower bound of total_price is\", lower_bound)\n",
    "print(\"THe upper_bound of total_price is\", upper_bound) "
   ]
  },
  {
   "cell_type": "markdown",
   "metadata": {},
   "source": [
    "### Exploratory Data Analysis"
   ]
  },
  {
   "cell_type": "code",
   "execution_count": 33,
   "metadata": {},
   "outputs": [
    {
     "name": "stdout",
     "output_type": "stream",
     "text": [
      "+---------+---------+-----------+\n",
      "|namespace|tableName|isTemporary|\n",
      "+---------+---------+-----------+\n",
      "|         |     data|       true|\n",
      "+---------+---------+-----------+\n",
      "\n"
     ]
    }
   ],
   "source": [
    "data.createOrReplaceTempView(\"data\")\n",
    "\n",
    "sqlCtx.sql(\"SHOW TABLES\").show()  "
   ]
  },
  {
   "cell_type": "code",
   "execution_count": 34,
   "metadata": {},
   "outputs": [
    {
     "name": "stdout",
     "output_type": "stream",
     "text": [
      "+--------------+----------+\n",
      "|       Country|     Price|\n",
      "+--------------+----------+\n",
      "|United Kingdom|8763711.59|\n",
      "|   Netherlands| 283889.34|\n",
      "|       Germany| 205569.89|\n",
      "|        France| 184768.74|\n",
      "|     Australia| 138171.31|\n",
      "|         Spain|  55725.11|\n",
      "|   Switzerland|   53087.9|\n",
      "|         Japan|  37416.37|\n",
      "|       Belgium|  36927.34|\n",
      "|        Sweden|  36839.33|\n",
      "+--------------+----------+\n",
      "only showing top 10 rows\n",
      "\n"
     ]
    }
   ],
   "source": [
    "total_price_by_country = sqlCtx.sql(\"\"\"\n",
    "                                    SELECT Country, ROUND(SUM(TotalPrice), 2) AS Price \n",
    "                                    FROM data \n",
    "                                    GROUP BY Country\n",
    "                                    \"\"\") \n",
    "total_price_by_country.orderBy('Price', ascending=False).show(10)  "
   ]
  },
  {
   "cell_type": "code",
   "execution_count": 35,
   "metadata": {},
   "outputs": [
    {
     "name": "stdout",
     "output_type": "stream",
     "text": [
      "+--------------+-----------------------------------+--------+\n",
      "|Country       |Itemname                           |Quantity|\n",
      "+--------------+-----------------------------------+--------+\n",
      "|United Kingdom|PAPER CRAFT , LITTLE BIRDIE        |80995   |\n",
      "|Netherlands   |RABBIT NIGHT LIGHT                 |2400    |\n",
      "|Japan         |RABBIT NIGHT LIGHT                 |2040    |\n",
      "|Australia     |MINI PAINT SET VINTAGE             |1152    |\n",
      "|France        |RABBIT NIGHT LIGHT                 |912     |\n",
      "|Sweden        |12 PENCILS SMALL TUBE RED RETROSPOT|768     |\n",
      "|Germany       |ASSORTED COLOURS SILK FAN          |600     |\n",
      "|Spain         |PINK 3 PIECE POLKADOT CUTLERY SET  |360     |\n",
      "|Spain         |BLUE 3 PIECE POLKADOT CUTLERY SET  |360     |\n",
      "|Spain         |CHILDRENS CUTLERY POLKADOT PINK    |360     |\n",
      "|Spain         |CHILDRENS CUTLERY POLKADOT BLUE    |360     |\n",
      "|Spain         |CHILDRENS CUTLERY POLKADOT PINK    |360     |\n",
      "|Austria       |SET 12 KIDS COLOUR  CHALK STICKS   |288     |\n",
      "|Switzerland   |GIRLS ALPHABET IRON ON PATCHES     |288     |\n",
      "|Singapore     |CHRISTMAS TREE PAINTED ZINC        |288     |\n",
      "|Belgium       |FAIRY CAKES NOTEBOOK A7 SIZE       |272     |\n",
      "|Norway        |SMALL FOLDING SCISSOR(POINTED EDGE)|240     |\n",
      "|Iceland       |ICE CREAM SUNDAE LIP GLOSS         |240     |\n",
      "|Norway        |SMALL FOLDING SCISSOR(POINTED EDGE)|240     |\n",
      "|Italy         |ICE CREAM BUBBLES                  |200     |\n",
      "+--------------+-----------------------------------+--------+\n",
      "only showing top 20 rows\n",
      "\n"
     ]
    }
   ],
   "source": [
    "top_product_country = sqlCtx.sql(\"\"\"SELECT Country, Itemname, Quantity FROM\n",
    "    (SELECT Country, Itemname, Quantity, MAX(Quantity) OVER(PARTITION BY Country) AS Max_Quant FROM data)\n",
    "    WHERE Quantity=MAX_QUANT\n",
    "    \"\"\")\n",
    "top_product_country.orderBy('Quantity', ascending=False).show(20, truncate=False)"
   ]
  },
  {
   "cell_type": "code",
   "execution_count": 36,
   "metadata": {},
   "outputs": [
    {
     "name": "stdout",
     "output_type": "stream",
     "text": [
      "+----------+--------------+------------------+\n",
      "|CustomerID|       Country|             Price|\n",
      "+----------+--------------+------------------+\n",
      "|     14646|   Netherlands| 279138.0201046169|\n",
      "|     18102|United Kingdom|259657.30027222633|\n",
      "|     17450|United Kingdom|194550.79052352905|\n",
      "|     16446|United Kingdom|168472.49374997616|\n",
      "|     12415|     Australia|124564.53000074625|\n",
      "|     17511|United Kingdom| 91062.38004624844|\n",
      "|     12346|United Kingdom|       77183.59375|\n",
      "|     16029|United Kingdom| 72882.09001159668|\n",
      "|     16684|United Kingdom| 66653.56011009216|\n",
      "|     13694|United Kingdom| 65039.61996245384|\n",
      "+----------+--------------+------------------+\n",
      "only showing top 10 rows\n",
      "\n"
     ]
    }
   ],
   "source": [
    "expense_per_customer = sqlCtx.sql(\"\"\"SELECT CustomerID, Country, SUM(TotalPrice) as Price FROM data WHERE CustomerID <> 99999 GROUP BY CustomerID, Country\"\"\")\n",
    "expense_per_customer.orderBy('Price', ascending=False).show(10)"
   ]
  },
  {
   "cell_type": "code",
   "execution_count": 39,
   "metadata": {},
   "outputs": [
    {
     "data": {
      "image/png": "[encoded data removed]",
      "text/plain": [
       "<Figure size 800x400 with 2 Axes>"
      ]
     },
     "metadata": {},
     "output_type": "display_data"
    }
   ],
   "source": [
    "monthly_data = data.groupBy(F.month(\"Date\").alias(\"Month\")) \\\n",
    "    .agg(F.sum(\"Quantity\").alias(\"TotalQuantity\"), F.sum(\"TotalPrice\").alias(\"TotalPrice\")) \\\n",
    "    .orderBy(\"Month\")\n",
    "\n",
    "pandas_df = monthly_data.toPandas()\n",
    "\n",
    "fig, ax1 = plt.subplots(figsize=(8, 4))\n",
    "\n",
    "ax1.bar(pandas_df.index, pandas_df['TotalQuantity'], color='olive', alpha=0.7, label='Quantity')\n",
    "ax1.set_ylabel('Quantity')\n",
    "ax1.tick_params('y')\n",
    "\n",
    "ax2 = ax1.twinx()\n",
    "ax2.plot(pandas_df.index, pandas_df['TotalPrice'], color='r', marker='o', label='Total Price')\n",
    "ax2.set_ylabel('Total Price')\n",
    "ax2.tick_params('y') \n",
    "\n",
    "ax1.set_xticks(pandas_df.index)\n",
    "ax1.set_xticklabels([month for month in pandas_df['Month']], rotation=45)\n",
    "\n",
    "plt.title('Month-wise Distribution of Quantity & Total Price')\n",
    "fig.tight_layout()\n",
    "plt.grid(False) \n",
    "plt.show()"
   ]
  },
  {
   "cell_type": "code",
   "execution_count": 40,
   "metadata": {},
   "outputs": [
    {
     "data": {
      "image/png": "[encoded data removed]",
      "text/plain": [
       "<Figure size 800x400 with 1 Axes>"
      ]
     },
     "metadata": {},
     "output_type": "display_data"
    }
   ],
   "source": [
    "transactions_per_month = data.groupBy(F.month(\"Date\").alias(\"Month\")) \\\n",
    "    .agg(F.count(\"BillNo\").alias(\"No_Of_Trans\"))\n",
    "\n",
    "transactions_per_month_pd = transactions_per_month.toPandas()\n",
    "plt.figure(figsize=(8, 4))\n",
    "plt.bar(transactions_per_month_pd[\"Month\"], transactions_per_month_pd[\"No_Of_Trans\"])\n",
    "plt.title(\"Number of Transactions per Month\")\n",
    "plt.xlabel(\"Month\")\n",
    "plt.ylabel(\"Number of Transactions\")\n",
    "plt.xticks(transactions_per_month_pd[\"Month\"], transactions_per_month_pd[\"Month\"], rotation=45)\n",
    "plt.show()"
   ]
  },
  {
   "cell_type": "markdown",
   "metadata": {},
   "source": [
    "## Association Rule"
   ]
  },
  {
   "cell_type": "code",
   "execution_count": 41,
   "metadata": {},
   "outputs": [
    {
     "name": "stdout",
     "output_type": "stream",
     "text": [
      "+------+--------------+--------------------+\n",
      "|BillNo|       Country|        Itemname_vec|\n",
      "+------+--------------+--------------------+\n",
      "|536394|United Kingdom|[FANCY FONT BIRTH...|\n",
      "|536402|United Kingdom|[HOT WATER BOTTLE...|\n",
      "|536534|United Kingdom|[HAND WARMER SCOT...|\n",
      "|536535|United Kingdom|[LOVEBIRD HANGING...|\n",
      "|536565|United Kingdom|[MIRRORED WALL AR...|\n",
      "|536575|United Kingdom|[JUMBO BAG RED RE...|\n",
      "|536611|United Kingdom|[BATHROOM METAL S...|\n",
      "|536628|United Kingdom|[CREAM CUPID HEAR...|\n",
      "|536629|United Kingdom|[HAND WARMER RED ...|\n",
      "|536741|United Kingdom|[6 RIBBONS RUSTIC...|\n",
      "|536771|United Kingdom|[CLOTHES PEGS RET...|\n",
      "|536786|United Kingdom|[BAKING SET SPACE...|\n",
      "|536806|United Kingdom|[TOILET METAL SIG...|\n",
      "|536832|United Kingdom|[CREAM CUPID HEAR...|\n",
      "|536838|United Kingdom|[FENG SHUI PILLAR...|\n",
      "|536841|United Kingdom|[PINK DRAWER KNOB...|\n",
      "|536944|         Spain|[LUNCH BAG  BLACK...|\n",
      "|536945|United Kingdom|[TOY TIDY SPACEBO...|\n",
      "|536972|United Kingdom|[GUMBALL MAGAZINE...|\n",
      "|536988|United Kingdom|[HOT WATER BOTTLE...|\n",
      "+------+--------------+--------------------+\n",
      "only showing top 20 rows\n",
      "\n"
     ]
    }
   ],
   "source": [
    "indexer = StringIndexer(inputCol=\"Itemname\", outputCol=\"ItemnameIndex\")\n",
    "data_group = indexer.fit(data).transform(data)\n",
    "data_group = data_group[['Country', 'BillNo', 'Itemname']].distinct()\n",
    "data_group = data_group.groupBy('BillNo', 'Country').agg(collect_list('Itemname').alias('Itemname_vec'))\n",
    "data_group.show()"
   ]
  },
  {
   "cell_type": "code",
   "execution_count": 42,
   "metadata": {},
   "outputs": [],
   "source": [
    "countries = []\n",
    "for country in data[['Country']].distinct().collect():\n",
    "    countries.append(country['Country']) "
   ]
  },
  {
   "cell_type": "code",
   "execution_count": 43,
   "metadata": {},
   "outputs": [],
   "source": [
    "minSupport=0.1\n",
    "minConfidence=0.8\n",
    "results = {}\n",
    "\n",
    "countries = ['Belgium', 'Germany', 'Italy', 'Netherlands', 'Portugal', 'Norway', 'Spain', 'Sweden', 'Australia' ]\n",
    "\n",
    "for country in countries:\n",
    "    fpGrowth = FPGrowth(itemsCol=\"Itemname_vec\", minSupport=minSupport, minConfidence=minConfidence)\n",
    "    model = fpGrowth.fit(data_group.filter(data_group['Country']==country))\n",
    "    results[country] = model.associationRules"
   ]
  },
  {
   "cell_type": "code",
   "execution_count": 44,
   "metadata": {},
   "outputs": [],
   "source": [
    "country = countries[0]\n",
    "apriori = results[country].withColumn('country', lit(country))\n",
    "\n",
    "for country in countries[1:5]:\n",
    "    df_temp = results[country].withColumn('country', lit(country))\n",
    "    apriori =  apriori.union(df_temp)"
   ]
  },
  {
   "cell_type": "code",
   "execution_count": 45,
   "metadata": {},
   "outputs": [
    {
     "name": "stdout",
     "output_type": "stream",
     "text": [
      "+----------------------------------------------------------------+-------------------------------------+---------+---------+--------+\n",
      "|antecedent                                                      |consequent                           |n_country|mean_lift|min_lift|\n",
      "+----------------------------------------------------------------+-------------------------------------+---------+---------+--------+\n",
      "|[ROUND SNACK BOXES SET OF 4 FRUITS]                             |[ROUND SNACK BOXES SET OF4 WOODLAND] |3        |2.896    |2.11    |\n",
      "|[PLASTERS IN TIN CIRCUS PARADE]                                 |[PLASTERS IN TIN WOODLAND ANIMALS]   |2        |5.595    |5.357   |\n",
      "|[SET OF 20 KIDS COOKIE CUTTERS, RETROSPOT TEA SET CERAMIC 11 PC]|[GINGERBREAD MAN COOKIE CUTTER]      |1        |8.75     |8.75    |\n",
      "|[LUNCH BAG CARS BLUE]                                           |[LUNCH BAG WOODLAND]                 |1        |8.75     |8.75    |\n",
      "|[LUNCH BAG WOODLAND]                                            |[LUNCH BAG CARS BLUE]                |1        |8.75     |8.75    |\n",
      "|[SET OF 20 KIDS COOKIE CUTTERS]                                 |[GINGERBREAD MAN COOKIE CUTTER]      |1        |7.0      |7.0     |\n",
      "|[DOORMAT UNION FLAG, DOORMAT WELCOME TO OUR HOME]               |[DOORMAT AIRMAIL]                    |1        |7.0      |7.0     |\n",
      "|[VINTAGE CREAM DOG FOOD CONTAINER]                              |[SET OF TEA COFFEE SUGAR TINS PANTRY]|1        |7.0      |7.0     |\n",
      "|[TOY TIDY PINK POLKADOT]                                        |[TOY TIDY SPACEBOY]                  |1        |7.0      |7.0     |\n",
      "|[TOY TIDY SPACEBOY, CHILDRENS APRON APPLES DESIGN]              |[TOY TIDY PINK POLKADOT]             |1        |7.0      |7.0     |\n",
      "+----------------------------------------------------------------+-------------------------------------+---------+---------+--------+\n",
      "only showing top 10 rows\n",
      "\n"
     ]
    }
   ],
   "source": [
    "apriori.createOrReplaceTempView(\"apriori\")\n",
    "rules = sqlCtx.sql(\"\"\"SELECT antecedent, consequent, COUNT(DISTINCT country) as n_country , ROUND(AVG(lift), 3) as mean_lift, ROUND(MIN(lift), 3) as min_lift FROM apriori GROUP BY antecedent, consequent\"\"\")\n",
    "rules.sort(col('n_country').desc(), col('mean_lift').desc()).show(10, truncate=False)"
   ]
  },
  {
   "cell_type": "code",
   "execution_count": 46,
   "metadata": {},
   "outputs": [
    {
     "name": "stdout",
     "output_type": "stream",
     "text": [
      "+--------------------+--------------------+-------------------+------------------+--------------------+\n",
      "|          antecedent|          consequent|         confidence|              lift|             support|\n",
      "+--------------------+--------------------+-------------------+------------------+--------------------+\n",
      "|[PAPER CHAIN KIT ...|[PAPER CHAIN KIT ...| 0.4768153980752406| 11.40594170488245| 0.02809278350515464|\n",
      "|[LUNCH BAG CARS B...|[LUNCH BAG  BLACK...| 0.4575971731448763| 7.045543776992539|0.026701030927835052|\n",
      "|[LUNCH BAG CARS B...|[LUNCH BAG SPACEB...|0.42226148409893993|  7.14199894639881| 0.02463917525773196|\n",
      "|[LUNCH BAG CARS B...|[LUNCH BAG RED RE...|0.48144876325088337| 6.061068142159076| 0.02809278350515464|\n",
      "|[LUNCH BAG CARS B...|[LUNCH BAG SUKI D...| 0.4125441696113074| 7.431157744159112|0.024072164948453607|\n",
      "|[LUNCH BAG CARS B...|[LUNCH BAG PINK P...| 0.4381625441696113| 7.922044135033047| 0.02556701030927835|\n",
      "|[JUMBO STORAGE BA...|[JUMBO BAG RED RE...| 0.8015564202334631| 7.544975522818624|0.021237113402061854|\n",
      "|   [JUMBO BAG PEARS]|  [JUMBO BAG APPLES]| 0.6843003412969283|13.771189441037768|0.020670103092783505|\n",
      "|[PINK REGENCY TEA...|[ROSES REGENCY TE...| 0.8509933774834437|16.313509410255737| 0.02649484536082474|\n",
      "|[JUMBO  BAG BAROQ...|[JUMBO SHOPPER VI...| 0.4540540540540541|7.5545871772286874|0.021649484536082474|\n",
      "+--------------------+--------------------+-------------------+------------------+--------------------+\n",
      "only showing top 10 rows\n",
      "\n"
     ]
    }
   ],
   "source": [
    "minSupport=0.02\n",
    "minConfidence=0.4\n",
    "\n",
    "fpGrowth = FPGrowth(itemsCol=\"Itemname_vec\", minSupport=minSupport, minConfidence=minConfidence)\n",
    "model = fpGrowth.fit(data_group)\n",
    "results = model.associationRules\n",
    "results.show(10)"
   ]
  },
  {
   "cell_type": "code",
   "execution_count": 47,
   "metadata": {},
   "outputs": [
    {
     "name": "stdout",
     "output_type": "stream",
     "text": [
      "+------------------------------------------------------------------+-----------------------------------+----------+------+-------+\n",
      "|antecedent                                                        |consequent                         |confidence|lift  |support|\n",
      "+------------------------------------------------------------------+-----------------------------------+----------+------+-------+\n",
      "|[GREEN REGENCY TEACUP AND SAUCER, ROSES REGENCY TEACUP AND SAUCER]|[PINK REGENCY TEACUP AND SAUCER]   |0.704     |18.585|0.026  |\n",
      "|[PINK REGENCY TEACUP AND SAUCER, ROSES REGENCY TEACUP AND SAUCER] |[GREEN REGENCY TEACUP AND SAUCER]  |0.903     |18.011|0.026  |\n",
      "|[PINK REGENCY TEACUP AND SAUCER]                                  |[GREEN REGENCY TEACUP AND SAUCER]  |0.822     |16.385|0.031  |\n",
      "|[GREEN REGENCY TEACUP AND SAUCER]                                 |[PINK REGENCY TEACUP AND SAUCER]   |0.621     |16.385|0.031  |\n",
      "|[PINK REGENCY TEACUP AND SAUCER, GREEN REGENCY TEACUP AND SAUCER] |[ROSES REGENCY TEACUP AND SAUCER]  |0.851     |16.314|0.026  |\n",
      "|[GARDENERS KNEELING PAD CUP OF TEA]                               |[GARDENERS KNEELING PAD KEEP CALM] |0.721     |15.466|0.028  |\n",
      "|[GARDENERS KNEELING PAD KEEP CALM]                                |[GARDENERS KNEELING PAD CUP OF TEA]|0.601     |15.466|0.028  |\n",
      "|[PINK REGENCY TEACUP AND SAUCER]                                  |[ROSES REGENCY TEACUP AND SAUCER]  |0.774     |14.84 |0.029  |\n",
      "|[ROSES REGENCY TEACUP AND SAUCER]                                 |[PINK REGENCY TEACUP AND SAUCER]   |0.562     |14.84 |0.029  |\n",
      "|[GREEN REGENCY TEACUP AND SAUCER]                                 |[ROSES REGENCY TEACUP AND SAUCER]  |0.75      |14.382|0.038  |\n",
      "+------------------------------------------------------------------+-----------------------------------+----------+------+-------+\n",
      "only showing top 10 rows\n",
      "\n"
     ]
    }
   ],
   "source": [
    "for column in ['confidence', 'lift', 'support']:\n",
    "    results = results.withColumn(column, round(results[column], 3))\n",
    "\n",
    "results.sort(col('lift').desc()).show(10, truncate=False)"
   ]
  }
 ],
 "metadata": {
  "kernelspec": {
   "display_name": "base",
   "language": "python",
   "name": "python3"
  },
  "language_info": {
   "codemirror_mode": {
    "name": "ipython",
    "version": 3
   },
   "file_extension": ".py",
   "mimetype": "text/x-python",
   "name": "python",
   "nbconvert_exporter": "python",
   "pygments_lexer": "ipython3",
   "version": "3.12.4"
  }
 },
 "nbformat": 4,
 "nbformat_minor": 2
}
